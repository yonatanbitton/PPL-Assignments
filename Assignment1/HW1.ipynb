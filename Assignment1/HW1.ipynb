{
 "cells": [
  {
   "cell_type": "markdown",
   "metadata": {},
   "source": [
    "# HW1 - Higher order functions and Typing\n",
    "## https://www.cs.bgu.ac.il/~ppl172\n",
    "\n",
    "Provide your answers in each cell of this notebook marked with **answer**.  \n",
    "Whenever justifications are requested, write your explanation clearly and concisely.\n",
    "\n",
    "When you write TypeScript code, make sure it passes compilation (tsc) with no type checking error.\n",
    "\n",
    "All the places where answers are expected are marked with '@@@'."
   ]
  },
  {
   "cell_type": "markdown",
   "metadata": {},
   "source": [
    "# Q1 Theoretical Questions\n",
    "### Q1.1 Type Relations \n",
    "\n",
    "* What is the intersection of the types denoted by the following two expressions:\n",
    "  \n",
    "  `{a:number}[]` and `{b:string}[]`\n",
    "  \n",
    "  Describe values in the type (give examples, characterize them) and write a TypeScript type expression that denotes this intersection.\n",
    "  "
   ]
  },
  {
   "cell_type": "markdown",
   "metadata": {},
   "source": [
    "### 1.1 Answer\n",
    "the intersection is an array, and each item at the array needs to be of type map {a,number},\n",
    "and also of type map {b,string}. \n",
    "Therefore type t1_1 = {a:number, b:string}[]\n",
    "Then I can define a variable of that type, and give it a proper value:\n",
    "let v1_1 : t1_1 = [{a:1,b:\"2\"},{a:3,b:\"4\"}]"
   ]
  },
  {
   "cell_type": "markdown",
   "metadata": {},
   "source": [
    "### Q1.2 Subtypes\n",
    "\n",
    "* For each of the pairs (T1, T2) below, determine whether the type T1 is a subtype of T2 - justify your answer:\n",
    "\n",
    "```\n",
    "1.2.1 \n",
    "type T1 = {a:number, b:{}}\n",
    "type T2 = {a:number}\n",
    "\n",
    "1.2.2\n",
    "type T1 = {a:number, b:any}\n",
    "type T2 = {a:number}\n",
    "\n",
    "1.2.3\n",
    "type T1 = {a:number, b:undefined}\n",
    "type T2 = {a:number}\n",
    "```"
   ]
  },
  {
   "cell_type": "markdown",
   "metadata": {},
   "source": [
    "### 1.2 Answer\n",
    "\n",
    "1.2.1\n",
    "\n",
    "Yes. To be a subtype of T2, T1 needs to have a map, and have a key named a, and value of type number. T1 is a map, which has a key named a of type number (and also key b of type {} ).\n",
    "There is a possibility to define :\n",
    "let v1_2_1 = {a:3, b:{} }\n",
    "let aVal1 : T2 = v1_2_1\n",
    "and it proves that T1 is subtype of T2, because i've defined a val of T1 (The bigger type)\n",
    "and it's type is of T1 (The smaller type).\n",
    "\n",
    "\n",
    "1.2.2\n",
    "Yes. To be a subtype of T2, T1 needs to have a map, and have a key named a, and value of type number. T1 is a map, which has a key named a of type number (and also key b of type any ).\n",
    "There is a possibility to define :\n",
    "let v1_2_2 = {a:3, b:3 }\n",
    "let aVal2 : T2 = v1_2_2\n",
    "and it proves that T1 is subtype of T2, because i've defined a val of T1 (The bigger type)\n",
    "and it's type is of T1 (The smaller type).\n",
    "\n",
    "\n",
    "1.2.3\n",
    "Yes. To be a subtype of T2, T1 needs to have a map, and have a key named a, and value of type number. T1 is a map, which has a key named a of type number (and also key b of type undefined ).\n",
    "There is a possibility to define :\n",
    "let v1_2_3 = {a:3, b:undefined }\n",
    "let aVal3 : T2 = v1_2_3\n",
    "and it proves that T1 is subtype of T2, because i've defined a val of T1 (The bigger type)\n",
    "and it's type is of T1 (The smaller type).\n",
    "\n"
   ]
  },
  {
   "cell_type": "markdown",
   "metadata": {},
   "source": [
    "### Q1.3 Type Inference\n",
    "\n",
    "* Write the type of the following values as a TypeScript type expression:\n",
    "  * let v1 = `[{a:1}]`,\n",
    "  *     v2 = `{a:[1]}`\n",
    "  *     v3 = `x => x / 2`,\n",
    "  *     v4 = `(f, x) => f(f(x))`"
   ]
  },
  {
   "cell_type": "markdown",
   "metadata": {},
   "source": [
    "### 1.3 Answer\n",
    "\n",
    "Type of v1 is: \n",
    "```\n",
    "type Tv1 =  {a:number}[];\n",
    "let vTv1 : Tv1 = [{a:1}];\n",
    "```\n",
    "\n",
    "Type of v2 is:\n",
    "```\n",
    "type Tv2 = {a:number[]};\n",
    "let vTv2 : Tv2 = {a:[1]};\n",
    "```\n",
    "\n",
    "Type of v3 is:\n",
    "```\n",
    "type Tv3 = (x:number)=>number;\n",
    "let vTv3 : Tv3 = x => x / 2;\n",
    "\n",
    "```\n",
    "\n",
    "Type of v4 is:\n",
    "```\n",
    "type Tv4 = <T>(func:<T>(x:T)=>T,x:T)=>T;\n",
    "let vTv4 : Tv4 = (f, x) => f(f(x));\n",
    "```"
   ]
  },
  {
   "cell_type": "markdown",
   "metadata": {},
   "source": [
    "* Compare the expression in `v3` and `v4` and explain when the inferred type expression contains type variables."
   ]
  },
  {
   "cell_type": "markdown",
   "metadata": {},
   "source": [
    "**Answer:**\n",
    "\n",
    "the expressions \" x / 2 \" imply that x is of type number (because of the division sign), therefore the type of the function is not generic < T >. \n",
    "On the other hand, at t4, the function and x can be from a variety of types, so it's type is generic < T >.\n"
   ]
  },
  {
   "cell_type": "markdown",
   "metadata": {},
   "source": [
    "### Q1.4 Function Type Inference\n",
    "\n",
    "Consider the following function:"
   ]
  },
  {
   "cell_type": "code",
   "execution_count": 79,
   "metadata": {
    "collapsed": false
   },
   "outputs": [
    {
     "data": {
      "text/plain": [
       "true"
      ]
     },
     "execution_count": 79,
     "metadata": {},
     "output_type": "execute_result"
    }
   ],
   "source": [
    "const invokeN1 = (f, n) => \n",
    "    n === 0 ? (x) => x : (x) => f(invokeN1(f,n-1)(x))"
   ]
  },
  {
   "cell_type": "markdown",
   "metadata": {},
   "source": [
    "  * Describe what the function computes in words\n",
    "  * Write the type of the function invokeN."
   ]
  },
  {
   "cell_type": "markdown",
   "metadata": {},
   "source": [
    "### 1.4 Answer\n",
    "\n",
    "The functions activates f on x for n times. \n",
    "Each execution of f, is the input for the next execution, until n reaches 0.\n",
    "the type is: (f:<T> (x:T)=>T,n:number) => (<T>(x:T)=>T)"
   ]
  },
  {
   "cell_type": "markdown",
   "metadata": {},
   "source": [
    "### Q1.5 Types and Values\n",
    "\n",
    "* **1.5.1**: Is it possible to design a type in TypeScript that denotes the empty set using the constructs described in class?"
   ]
  },
  {
   "cell_type": "markdown",
   "metadata": {},
   "source": [
    "* **Answer 1.5.1**:\n",
    "```\n",
    "The answer depends wether undefined or null are subtypes of all types or not.\n",
    "Because every type will contain null or undefined.\n",
    "For example:\n",
    "type notEmpty = string & number\n",
    "let yossi : notEmpty = null\n",
    "will compile. Because null belongs to that type.\n",
    "If it's not a subtype, this example will not except any other values. \n",
    "```"
   ]
  },
  {
   "cell_type": "markdown",
   "metadata": {},
   "source": [
    "* **1.5.2** Is it possible to design a type in TypeScript that denotes a finite set of 5 values?"
   ]
  },
  {
   "cell_type": "markdown",
   "metadata": {},
   "source": [
    "* **Answer 1.5.2**:\n",
    "Yes.\n",
    "type h1='a';\n",
    "type h2='b';\n",
    "type h3='c';\n",
    "type h=h1|h2|h3; (Also null and undefined belongs to this types. Together it's 5 items) \n",
    "(Again, the exact number depends on the defenition of undefined & null) \n",
    "let x:h = 1; will NOT compile, because 1 is not of the possible types at h. \n",
    "\n"
   ]
  },
  {
   "cell_type": "markdown",
   "metadata": {},
   "source": [
    "* **1.5.3** Is it possible to design a type in TypeScript that denotes the set of even numbers?"
   ]
  },
  {
   "cell_type": "markdown",
   "metadata": {},
   "source": [
    "* **Answer 1.5.3**:\n",
    "\n",
    "No. In order to define this, I need to include all of the even numbers - infinite number. \n",
    "This definition is not decidable. \n",
    "The language does not support a condition for type declaring. "
   ]
  },
  {
   "cell_type": "markdown",
   "metadata": {},
   "source": [
    "# Q2 Functional Abstractions over Trees\n",
    "\n",
    "Consider the definition of the inductive Tree data type.\n",
    "\n",
    "The set of Tree values is defined inductively as follows:\n",
    "* There is no empty tree.\n",
    "* The smallest tree is a tree with no children - a single node containing a single data element denoted $leaf(v)$.\n",
    "* For a set of trees $t_1, \\ldots, t_n$ and a data element $v_0$, one can construct a new tree whose root is has value $v_0$ and children $(t_1, \\ldots, t_n)$ - denoted $tree(v_0, (t_1, \\ldots, t_n))$.\n",
    "\n",
    "In this inductive definition, the height of the trees determines the inductive size of trees. The height of a tree is defined inductively as:\n",
    "* The height of a tree with no children is 0: $h(leaf(v)) = 0$.\n",
    "* For a tree with children, the height of the tree is 1 more than the max height of the children:\n",
    "  $h(tree(v_0, (t_1, \\ldots, t_n))) = 1 + max_{i \\in \\{1 \\ldots n\\}} h(t_i)$\n",
    "  \n",
    "Other properties or computations on trees have a similar inductive definition."
   ]
  },
  {
   "cell_type": "markdown",
   "metadata": {},
   "source": [
    "We write the following definition of a type denoting the set of Tree values as follows:"
   ]
  },
  {
   "cell_type": "code",
   "execution_count": 80,
   "metadata": {
    "collapsed": false
   },
   "outputs": [
    {
     "data": {
      "text/plain": [
       "{ root: 1,\n",
       "  children: [ { root: 2, children: [] }, { root: 3, children: [Object] } ] }"
      ]
     },
     "execution_count": 80,
     "metadata": {},
     "output_type": "execute_result"
    }
   ],
   "source": [
    "interface Tree<T> {\n",
    "    root: T;\n",
    "    children: Tree<T>[];\n",
    "}\n",
    "\n",
    "{\n",
    "    let b: Tree<number> = {\n",
    "        root: 1,\n",
    "        children: [\n",
    "            {root: 2, children: []},\n",
    "            {root: 3, children: [\n",
    "                {root: 4, children:[]}\n",
    "            ]}\n",
    "        ]\n",
    "    }\n",
    "    b;\n",
    "}"
   ]
  },
  {
   "cell_type": "markdown",
   "metadata": {},
   "source": [
    "We define the following functions to manipulate Tree values - providing an abstract interface for trees.\n",
    "It consists of two constructors - for leaf trees and non-leaf trees - and three accessors:"
   ]
  },
  {
   "cell_type": "code",
   "execution_count": 81,
   "metadata": {
    "collapsed": false
   },
   "outputs": [
    {
     "data": {
      "text/plain": [
       "true"
      ]
     },
     "execution_count": 81,
     "metadata": {},
     "output_type": "execute_result"
    }
   ],
   "source": [
    "const makeLeaf : <T>(v:T)=>Tree<T> =\n",
    "    v => {return {root: v, children:[]};}\n",
    "    \n",
    "const makeTree : <T>(v:T, children:Tree<T>[])=>Tree<T> =\n",
    "    (v, children) => { return {root:v, children:children}}\n",
    "\n",
    "const treeRoot : <T>(t: Tree<T>)=>T =\n",
    "    t => t.root;\n",
    "\n",
    "const treeChildren: <T>(t: Tree<T>)=>Tree<T>[] =\n",
    "    t => t.children;\n",
    "    \n",
    "const treeLeaf : <T>(t: Tree<T>)=>boolean =\n",
    "    t => t.children.length === 0;"
   ]
  },
  {
   "cell_type": "code",
   "execution_count": 82,
   "metadata": {
    "collapsed": false
   },
   "outputs": [
    {
     "data": {
      "text/plain": [
       "true"
      ]
     },
     "execution_count": 82,
     "metadata": {},
     "output_type": "execute_result"
    }
   ],
   "source": [
    "treeLeaf(makeLeaf(5))"
   ]
  },
  {
   "cell_type": "markdown",
   "metadata": {},
   "source": [
    "A function manipulating Tree values will typically perform a recursion similar to that observed in the definition of the `treeHeight` function:"
   ]
  },
  {
   "cell_type": "code",
   "execution_count": 83,
   "metadata": {
    "collapsed": false
   },
   "outputs": [
    {
     "data": {
      "text/plain": [
       "1"
      ]
     },
     "execution_count": 83,
     "metadata": {},
     "output_type": "execute_result"
    }
   ],
   "source": [
    "import {map, reduce} from 'ramda'\n",
    "\n",
    "const treeHeight : <T>(t:Tree<T>)=>number =\n",
    "    t => treeLeaf(t) ? \n",
    "            0 : \n",
    "            1 + reduce(Math.max, 0, map(treeHeight, treeChildren(t)));\n",
    "            \n",
    "treeHeight(makeTree(1, [makeLeaf(2), makeLeaf(3)]))"
   ]
  },
  {
   "cell_type": "code",
   "execution_count": 84,
   "metadata": {
    "collapsed": false
   },
   "outputs": [
    {
     "data": {
      "text/plain": [
       "2"
      ]
     },
     "execution_count": 84,
     "metadata": {},
     "output_type": "execute_result"
    }
   ],
   "source": [
    "treeHeight({ root: 1, children: [ { root: 2, children: [] }, { root: 3, children: [{root: 4, children:[]}] } ] })"
   ]
  },
  {
   "cell_type": "markdown",
   "metadata": {},
   "source": [
    "Other functions that operate on tree values will adopt a similar pattern of recursion:\n",
    "\n",
    "```\n",
    "const f: <T1,T2>(t:Tree<T1>)=>T2 =\n",
    "    t => treeLeaf(t) ? <basecase> : ...map(f, t.children)...;\n",
    "```\n",
    "\n",
    "In this question, we define **functional abstractions** over Tree values similar to the sequence interface we used over Array values - `map, filter, forEach, some, every, reduce`.\n",
    "\n",
    "We first define the type of the functions that will be passed as arguments to these higher order functions:"
   ]
  },
  {
   "cell_type": "code",
   "execution_count": 85,
   "metadata": {
    "collapsed": false
   },
   "outputs": [
    {
     "data": {
      "text/plain": [
       "true"
      ]
     },
     "execution_count": 85,
     "metadata": {},
     "output_type": "execute_result"
    }
   ],
   "source": [
    "type Command<T> = (x:T)=>void;\n",
    "type Transformer<T1,T2> = (x:T1)=>T2;\n",
    "type Predicate<T> = (x:T)=>boolean;\n",
    "type Accumulator<T1,T2> = (acc:T1, item:T2)=>T1;"
   ]
  },
  {
   "cell_type": "markdown",
   "metadata": {},
   "source": [
    "**Define the following functional abstractions over trees.**\n",
    "\n",
    "For each function:\n",
    "* provide the function definition \n",
    "* and four good test covering the code of the function as much as possible.\n",
    "\n",
    "Make sure your solution follows Functional Programming practice with no mutation to any variable."
   ]
  },
  {
   "cell_type": "markdown",
   "metadata": {},
   "source": [
    "### Question 2.1 treeMap\n",
    "\n",
    "`treeMap` operates over a Tree value.  It returns a new tree of the same shape as its parameter, where the value of each node is transformed by `f`."
   ]
  },
  {
   "cell_type": "code",
   "execution_count": 86,
   "metadata": {
    "collapsed": false
   },
   "outputs": [
    {
     "data": {
      "text/plain": [
       "true"
      ]
     },
     "execution_count": 86,
     "metadata": {},
     "output_type": "execute_result"
    }
   ],
   "source": [
    "// Answer 2.1\n",
    "import {map, reduce, chain, filter} from 'ramda'\n",
    "const treeMap: <T1,T2>(f: Transformer<T1,T2>, tree: Tree<T1>)=>Tree<T2> = \n",
    "    (f,tree) => {\n",
    "        if (tree===undefined) return undefined;\n",
    "        else if (treeLeaf(tree)) return makeTree(f(tree.root),[]);\n",
    "        else {\n",
    "            return makeTree(f(tree.root),map(t => treeMap(f, t) ,treeChildren(tree)))\n",
    "\n",
    "        }\n",
    "\n",
    "    }"
   ]
  },
  {
   "cell_type": "code",
   "execution_count": 87,
   "metadata": {
    "collapsed": false
   },
   "outputs": [
    {
     "data": {
      "text/plain": [
       "true"
      ]
     },
     "execution_count": 87,
     "metadata": {},
     "output_type": "execute_result"
    }
   ],
   "source": [
    "// treeMap test 1\n",
    "declare var require: any\n",
    "const assert = require ('assert');\n",
    "let square = (x)=>x*x\n",
    "\n",
    "// Base tree - just a leaf\n",
    "    let baseTree1 = makeLeaf(3);\n",
    "    const baseTreeTransformed = treeMap(square, baseTree1);\n",
    "    assert.ok(baseTreeTransformed.root === 9);\n",
    "true"
   ]
  },
  {
   "cell_type": "code",
   "execution_count": 88,
   "metadata": {
    "collapsed": false
   },
   "outputs": [
    {
     "data": {
      "text/plain": [
       "true"
      ]
     },
     "execution_count": 88,
     "metadata": {},
     "output_type": "execute_result"
    }
   ],
   "source": [
    "// treeMap test 2\n",
    "// Invariant tree is not modified\n",
    "    let tree3 = makeTree(1,[makeLeaf(2)]);\n",
    "    treeMap(square, tree3);\n",
    "    assert.deepEqual(makeTree(1,[makeLeaf(2)]), tree3, \"invariant tree\");\n",
    "true\n"
   ]
  },
  {
   "cell_type": "code",
   "execution_count": 89,
   "metadata": {
    "collapsed": false
   },
   "outputs": [
    {
     "data": {
      "text/plain": [
       "true"
      ]
     },
     "execution_count": 89,
     "metadata": {},
     "output_type": "execute_result"
    }
   ],
   "source": [
    "// treeMap test 3\n",
    "// Regular - Deep tree\n",
    "    let tree5 = makeTree(1, [makeTree(2, [makeLeaf(3)]),makeLeaf(4)]);\n",
    "    const tree5Transformed = treeMap (square,tree5);\n",
    "    assert.deepEqual(makeTree(1, [makeTree(4, [makeLeaf(9)]),makeLeaf(16)]),tree5Transformed,\"Deep tree\");\n",
    "true"
   ]
  },
  {
   "cell_type": "code",
   "execution_count": 90,
   "metadata": {
    "collapsed": false
   },
   "outputs": [
    {
     "data": {
      "text/plain": [
       "true"
      ]
     },
     "execution_count": 90,
     "metadata": {},
     "output_type": "execute_result"
    }
   ],
   "source": [
    "// treeMap test 4\n",
    "    // Regular - function and it's inverse function\n",
    "    let tree6 = makeTree(1,[makeLeaf(2),makeTree(3,[])]);\n",
    "    const tree6Transformed = treeMap (square,tree6);\n",
    "    const tree6isBack = treeMap (Math.sqrt, tree6Transformed);\n",
    "    assert.deepEqual(tree6,tree6isBack,\"square and root it\");\n",
    "true\n",
    "\n"
   ]
  },
  {
   "cell_type": "markdown",
   "metadata": {},
   "source": [
    "### Question 2.2 treeForEachDF\n",
    "\n",
    "`treeForEachDF` operates over a Tree value.  It traverses the tree node by node in depth-first order and applies the command `f` on each one.  The side effects of the command are observed in depth-first order."
   ]
  },
  {
   "cell_type": "code",
   "execution_count": 91,
   "metadata": {
    "collapsed": false
   },
   "outputs": [
    {
     "data": {
      "text/plain": [
       "true"
      ]
     },
     "execution_count": 91,
     "metadata": {},
     "output_type": "execute_result"
    }
   ],
   "source": [
    "// Answer 2.2 \n",
    "const treeForEachDF: <T>(f: Command<T>, tree: Tree<T>)=>void = \n",
    "    (f,tree) => {\n",
    "        f(tree.root);\n",
    "        treeChildren(tree).forEach((t)=>treeForEachDF(f,t));\n",
    "    }\n",
    "    "
   ]
  },
  {
   "cell_type": "code",
   "execution_count": 92,
   "metadata": {
    "collapsed": false
   },
   "outputs": [
    {
     "name": "stdout",
     "output_type": "stream",
     "text": [
      "1\n",
      "2\n",
      "3\n",
      "4\n"
     ]
    },
    {
     "data": {
      "text/plain": [
       "true"
      ]
     },
     "execution_count": 92,
     "metadata": {},
     "output_type": "execute_result"
    }
   ],
   "source": [
    "const sum = (x,y)=>x+y\n",
    "\n",
    "// treeForEachDF test 1\n",
    "\t// 1. function that increases counter by 1\n",
    "\tlet counter=0;\n",
    "\tconst consoleLogAndIncreaseCounter = \n",
    "\t(val)=>{\n",
    "\t\tconsole.log(val);\n",
    "\t\tcounter+=1;\n",
    "\t}\n",
    "\tlet sideTree = makeTree(1, [makeTree(2, [makeLeaf(3)]),makeLeaf(4)]);\n",
    "\ttreeForEachDF(consoleLogAndIncreaseCounter,sideTree);\n",
    "\tassert.equal(counter,4,\"simple increase\");\n",
    "    true"
   ]
  },
  {
   "cell_type": "code",
   "execution_count": 93,
   "metadata": {
    "collapsed": false
   },
   "outputs": [
    {
     "name": "stdout",
     "output_type": "stream",
     "text": [
      "1\n",
      "2\n",
      "3\n",
      "4\n"
     ]
    },
    {
     "data": {
      "text/plain": [
       "true"
      ]
     },
     "execution_count": 93,
     "metadata": {},
     "output_type": "execute_result"
    }
   ],
   "source": [
    "// treeForEachDF test 2\n",
    "\t// 2. function that multiplies counter by 2 (from 1)\n",
    "\tcounter=1;\n",
    "\tconst consoleLogAndMultCounter = \n",
    "\t(val)=>{\n",
    "\t\tconsole.log(val);\n",
    "\t\tcounter*=2;\n",
    "\t}\n",
    "\ttreeForEachDF(consoleLogAndMultCounter,sideTree);\n",
    "\tassert.equal(counter,1*2*2*2*2,\"simple multiplication\");\n",
    "    true"
   ]
  },
  {
   "cell_type": "code",
   "execution_count": 94,
   "metadata": {
    "collapsed": false
   },
   "outputs": [
    {
     "name": "stdout",
     "output_type": "stream",
     "text": [
      "1\n",
      "Error caught\n"
     ]
    },
    {
     "data": {
      "text/plain": [
       "true"
      ]
     },
     "execution_count": 94,
     "metadata": {},
     "output_type": "execute_result"
    }
   ],
   "source": [
    "// treeForEachDF test 3\n",
    "\t// 3. function that throws error \n",
    "\tconst consoleLogAndThrowError = \n",
    "\t(val)=>{\n",
    "\t\tconsole.log(val);\n",
    "\t\tthrow Error(\"Error!!!\");\n",
    "\t}\n",
    "    \n",
    "    try{\n",
    "        assert.throws(treeForEachDF(consoleLogAndThrowError,sideTree), Error(\"Error!!!\"));\n",
    "    }    \n",
    "    catch (err) { \n",
    "        assert.ok (err==\"Error: Error!!!\");\n",
    "        console.log (\"Error caught\")\n",
    "    }\n",
    "    true"
   ]
  },
  {
   "cell_type": "code",
   "execution_count": 95,
   "metadata": {
    "collapsed": false
   },
   "outputs": [
    {
     "name": "stdout",
     "output_type": "stream",
     "text": [
      "1\n",
      "2\n",
      "3\n",
      "4\n"
     ]
    },
    {
     "data": {
      "text/plain": [
       "true"
      ]
     },
     "execution_count": 95,
     "metadata": {},
     "output_type": "execute_result"
    }
   ],
   "source": [
    "\t// 4. Function that console logs and open a file \n",
    "    var fs = require(\"fs\")\n",
    "\tconst consoleLogAndOpenFile = \n",
    "\t(val)=>{\n",
    "\t\tconsole.log(val);\n",
    "        // fs.open with w+ creates a new file if it's not exists\n",
    "\t\tfs.open('sideEffectFile.txt', 'w+', function(err, fd) {\n",
    "\t   \t\tif (err) {\n",
    "\t      \t\treturn console.error(err);\n",
    "\t   \t\t}\n",
    "\t \t\t //console.log(\"File opened successfully!\");     \n",
    "\t\t});\n",
    "\t}\n",
    "\ttreeForEachDF(consoleLogAndOpenFile,sideTree);\n",
    "\ttry{\n",
    "\t// file opening with 'r' causes an exception if file does not exist \t\n",
    "\tfs.open('sideEffectFile.txt', 'r', function(err, fd) {\n",
    "\t   \t\tif (err) {\n",
    "                throw Error(\"No such file or directory !!! \");\n",
    "\t      \t\t//return console.error(err);\n",
    "\t   \t\t}\n",
    "\t \t\t //console.log(\"File opened successfully!\");     \n",
    "\t\t});\n",
    "\t} catch (err) { throw \"Error was caught - the file wasn't created!!!\";}\n",
    "    true\n"
   ]
  },
  {
   "cell_type": "markdown",
   "metadata": {},
   "source": [
    "### Question 2.3 treeReduceDF\n",
    "\n",
    "`treeReduceDF` operates in a way similar to `reduce` on arrays: it traverses the tree in depth-first order, and at each node `t`, it computes `f(acc, t.root)` and continues with the value returned as the value of `acc` passed in the next node."
   ]
  },
  {
   "cell_type": "code",
   "execution_count": 96,
   "metadata": {
    "collapsed": false
   },
   "outputs": [
    {
     "data": {
      "text/plain": [
       "true"
      ]
     },
     "execution_count": 96,
     "metadata": {},
     "output_type": "execute_result"
    }
   ],
   "source": [
    "import {reduce} from 'ramda'    \n",
    "\n",
    "const treeReduceDF: <T1,T2>(f: Accumulator<T1,T2>, init: T1, tree: Tree<T2>)=>T1 = \n",
    "    (f, init, tree) => {\n",
    "        if (tree===undefined) return init;\n",
    "        if (treeLeaf(tree)) return f(init,tree.root);\n",
    "        else {\n",
    "            return reduce((acc,t) => treeReduceDF(f,acc,t),f(init,tree.root),treeChildren(tree));\n",
    "        }\n",
    "    }\n"
   ]
  },
  {
   "cell_type": "code",
   "execution_count": 97,
   "metadata": {
    "collapsed": false
   },
   "outputs": [
    {
     "data": {
      "text/plain": [
       "true"
      ]
     },
     "execution_count": 97,
     "metadata": {},
     "output_type": "execute_result"
    }
   ],
   "source": [
    "// treeReduceDF test 1\n",
    "// Base tree - just a leaf\n",
    "    let baseTree1 = makeLeaf(0);\n",
    "    const sum1 = treeReduceDF(sum,0,baseTree1);\n",
    "    assert.ok(sum1 === 0);\n",
    "    true\n"
   ]
  },
  {
   "cell_type": "code",
   "execution_count": 98,
   "metadata": {
    "collapsed": false
   },
   "outputs": [
    {
     "data": {
      "text/plain": [
       "true"
      ]
     },
     "execution_count": 98,
     "metadata": {},
     "output_type": "execute_result"
    }
   ],
   "source": [
    "// treeReduceDF test 2\n",
    "import {reduce} from 'ramda'    \n",
    "\n",
    "    // Invariant tree is not modified\n",
    "    let tree2 = makeTree(1,[makeLeaf(2)]);\n",
    "    treeReduceDF(sum,0,tree2);\n",
    "    assert.deepEqual(makeTree(1,[makeLeaf(2)]), tree2, \"invariant tree\");\n",
    "    true\n"
   ]
  },
  {
   "cell_type": "code",
   "execution_count": 99,
   "metadata": {
    "collapsed": false
   },
   "outputs": [
    {
     "data": {
      "text/plain": [
       "true"
      ]
     },
     "execution_count": 99,
     "metadata": {},
     "output_type": "execute_result"
    }
   ],
   "source": [
    "// treeReduceDF test 3\n",
    "    // Regular - Not deep tree\n",
    "    let tree3 = makeTree(\"J\",[makeLeaf(\"O\"),makeTree(\"N\",[])]);\n",
    "    const sum3 = treeReduceDF(sum,\"\",tree3);\n",
    "    assert.ok(sum3===\"JON\");\n",
    "    true\n"
   ]
  },
  {
   "cell_type": "code",
   "execution_count": 100,
   "metadata": {
    "collapsed": false
   },
   "outputs": [
    {
     "data": {
      "text/plain": [
       "true"
      ]
     },
     "execution_count": 100,
     "metadata": {},
     "output_type": "execute_result"
    }
   ],
   "source": [
    "// treeReduceDF test 4\n",
    "    // Regular - Deep tree\n",
    "    let tree4 = makeTree(1, [makeTree(2, [makeLeaf(3)]),makeLeaf(4)]);\n",
    "    const sum4 = treeReduceDF(sum,0,tree4);\n",
    "    assert.deepEqual(10,sum4,\"Deep tree\");\n",
    "    true\n",
    "\n"
   ]
  },
  {
   "cell_type": "markdown",
   "metadata": {},
   "source": [
    "### Question 2.4\n",
    "\n",
    "Why do we need to specify the order of traversal of the tree for `treeReduceDF`?\n",
    "\n",
    "Provide examples showing that with a different order of traversal, we could obtain different results when invoking `treeReduce`\n",
    "with the same parameters."
   ]
  },
  {
   "cell_type": "markdown",
   "metadata": {},
   "source": [
    "### Answer 2.4\n",
    "```\n",
    "There are functions that the order is importent. \n",
    "For example:\n",
    "const power=(x,y)=>(Math.pow(y,x))\n",
    "let smallTree = makeTree(3,[makeLeaf(4)])\n",
    "let sumOfPowers = treeReduceDF(power,2,smallTree)\n",
    "sumOfPowers will be power(4,power(3,2)) = power(4,9) = 262,144\n",
    "it's different from power(3,power(4,2)) = power(3,16) = 43,046,721\n",
    "```"
   ]
  },
  {
   "cell_type": "markdown",
   "metadata": {},
   "source": [
    "# Question 3: Runtime Type Checker\n",
    "\n",
    "We have practiced with TypeScript - a compiler which operates over JavaScript programs enriched with type annotations in the TypeScript type language and which performs type checking at compilation time, and outputs a JavaScript program as output.\n",
    "\n",
    "The TypeScript compiler (tsc) performs what is called **static code analysis** - an analysis of a program performed without executing the program itself.\n",
    "\n",
    "In this question, we design a **runtime type checker** - a function that verifies the type of a value at runtime - that is, check **at runtime** that a value belongs to a type.\n",
    "\n",
    "We call this function:\n",
    "\n",
    "```\n",
    "typeCheck(jsValue, typeExpression)=>boolean;\n",
    "```\n",
    "\n",
    "We first need to understand that this capability does **not** exist with TypeScript.\n",
    "TypeScript is a compiler - it provides no runtime library, it does not exist at runtime.\n",
    "After a TypeScript program is compiled into JavaScript, there are no types left in the JavaScript program, \n",
    "no type expressions and no type names.\n",
    "\n",
    "The values we want to type check at runtime, typically, will be JSON values obtained by reading from a file or from an HTTP call to a server returning JSON values.\n",
    "\n",
    "To achieve this goal, we need to represent type expressions as concrete values which will be passed to our function `typeCheck`.\n",
    "Remember - at runtime, TypeScript type expressions do not exist - so we need to create our own type expressions."
   ]
  },
  {
   "cell_type": "markdown",
   "metadata": {},
   "source": [
    "### Question 3.1 Concrete Representation of Type Expressions\n",
    "\n",
    "Let us consider a subset of the TypeScript type language that only includes the following type expressions:\n",
    "* Atomic type expressions: `number`, `string`, `boolean`\n",
    "* Arrays: for any type expression `T`, `T[]` is an array type expression.\n",
    "* Maps: for any type expressions T1,...,Tn and any strings s1,...sn - `{s1:T1, ..., sn:Tn}` is a map type expression.\n",
    "\n",
    "This is an inductive definition of the set of type expression values.\n",
    "\n",
    "Compared to the TypeScript type system we discussed in class, we do not consider function types, type unions, intersection, generic types, recursive types, undefined, any and named types.\n",
    "\n",
    "Our objective is to design a TypeScript type whose values are type expressions in this limited subset.\n",
    "We will also define functions to operate over this data type (constructors and accessors)."
   ]
  },
  {
   "cell_type": "markdown",
   "metadata": {},
   "source": [
    "For example, we want to define a value that represents the type expression `string[]`.\n",
    "We will use the following value:\n",
    "\n",
    "```\n",
    "const teSA = {\n",
    "    tag: \"array\",\n",
    "    itemType: \"string\"\n",
    "};\n",
    "```\n",
    "\n",
    "This value is the concrete representation of the type expression.\n",
    "We can pass it as an argument to the `typeCheck` function as follows:\n",
    "\n",
    "```\n",
    "typeCheck([\"aa\", \"bb\"], teSA); // true\n",
    "typeCheck([\"aa\", 1], teSA);    // false\n",
    "```\n",
    "\n",
    "We provide the following definitions using the acronym TE for Type Expression:"
   ]
  },
  {
   "cell_type": "code",
   "execution_count": 101,
   "metadata": {
    "collapsed": false
   },
   "outputs": [
    {
     "data": {
      "text/plain": [
       "true"
      ]
     },
     "execution_count": 101,
     "metadata": {},
     "output_type": "execute_result"
    }
   ],
   "source": [
    "// We adopt the Disjoint Union type pattern discussed in class.\n",
    "\n",
    "type TE = TeNumber | TeBoolean | TeString | TeArray | TeMap;\n",
    "\n",
    "// Atomic type expressions have no component\n",
    "interface TeNumber {\n",
    "    tag: \"number\";\n",
    "};\n",
    "interface TeBoolean {\n",
    "    tag: \"boolean\";\n",
    "};\n",
    "interface TeString {\n",
    "    tag: \"string\";\n",
    "};\n",
    "\n",
    "// Concrete representation of an Array Type Expression\n",
    "interface TeArray {\n",
    "    tag: \"array\";\n",
    "    itemType: TE;\n",
    "};"
   ]
  },
  {
   "cell_type": "markdown",
   "metadata": {},
   "source": [
    "**3.1** Complete the following type definition:"
   ]
  },
  {
   "cell_type": "code",
   "execution_count": 102,
   "metadata": {
    "collapsed": false
   },
   "outputs": [
    {
     "data": {
      "text/plain": [
       "true"
      ]
     },
     "execution_count": 102,
     "metadata": {},
     "output_type": "execute_result"
    }
   ],
   "source": [
    "// ANSWER 3.1: Complete the type definition\n",
    "interface TeMap {\n",
    "    tag: \"map\";\n",
    "    arr: { key:string,value: TE}[];\n",
    "\n",
    "};"
   ]
  },
  {
   "cell_type": "markdown",
   "metadata": {},
   "source": [
    "### Question 3.2 Type Expression Constructors and Accessors\n",
    "\n",
    "We define an abstraction barrier around the `TE` data type in the form of constructors for type expressions\n",
    "of each type and accessors to retrieve the components of compound type expression values.\n",
    "\n",
    "Complete the types and definitions of the functions marked by @@@:"
   ]
  },
  {
   "cell_type": "code",
   "execution_count": 103,
   "metadata": {
    "collapsed": false
   },
   "outputs": [
    {
     "data": {
      "text/plain": [
       "true"
      ]
     },
     "execution_count": 103,
     "metadata": {},
     "output_type": "execute_result"
    }
   ],
   "source": [
    "// Constructors\n",
    "// ============\n",
    "const makeTeString : ()=>TeString = \n",
    "    () => { return {tag:\"string\"}}\n",
    "\n",
    "const makeTeNumber : ()=>TeNumber = \n",
    "    () => { return {tag:\"number\"}}\n",
    "\n",
    "\n",
    "const makeTeBoolean :()=>TeBoolean = \n",
    "    () => { return {tag:\"boolean\"}}\n",
    "\n",
    "\n",
    "const makeTeArray : (itemType: TE)=>TeArray =\n",
    "    itemType => { return {tag: \"array\", itemType: itemType}}\n",
    "\n",
    "const makeTeMap : (arr:{key:string,value:TE}[])=>TeMap =\n",
    "    (arr) => { return {tag: \"map\", arr } }\n",
    "\n",
    "\n",
    "// Type predicates\n",
    "// ===============\n",
    "const isTeNumber : (te:TE)=>boolean =\n",
    "    te => te.tag === \"number\";\n",
    "\n",
    "const isTeBoolean : (te:TE)=>boolean =\n",
    "    te => te.tag === \"boolean\";\n",
    "\n",
    "\n",
    "const isTeString : (te:TE)=>boolean =\n",
    "    te => te.tag === \"string\";\n",
    "\n",
    "\n",
    "const isTeArray : (te:TE)=>boolean =\n",
    "    te => ( te.tag === \"array\") ;\n",
    "\n",
    "\n",
    "const isTeMap : (te:TE)=>boolean =\n",
    "    te => {                \n",
    "             return (te.tag === \"map\")\n",
    "             && \n",
    "             everyDiffFunctional(te.arr.map(x=>x.key));\n",
    "          \n",
    "}\n",
    "\n",
    "const everyDiffFunctional: (keys:Array<string>)=>boolean = \n",
    "    (keys) => {\n",
    "            //if contains(arr,singleItem) return false;\n",
    "            let filtered=[];\n",
    "            keys.map ((item)=>{\n",
    "                if (contains(filtered,item)==false){\n",
    "                    //like filtered.push(item);\n",
    "                    filtered = filtered.reduce((acc,curr) => acc.concat(curr), [item]);\n",
    "                }\n",
    "            } )\n",
    "            return (filtered.length===keys.length);\n",
    "            }\n",
    "\n",
    "const contains : <T>(arr:Array<T>, item:T)=>boolean =\n",
    "    (arr,item)=>{\n",
    "        return reduce((acc,curr)=> { \n",
    "\n",
    "            if (acc==true || curr===item) return true;\n",
    "                else return false;\n",
    "        },false,arr);\n",
    "    }\n",
    "\n",
    "\n",
    "// Accessors\n",
    "// =========\n",
    "const teArrayItemType : (tea : TeArray)=>TE =\n",
    "    tea => tea.itemType;\n",
    "\n",
    "const teMapKey : (tem : TeMap, key: string)=> any =\n",
    "\n",
    "    (tem, key) => {\t\n",
    "    \t\tlet x = tem.arr.filter(currMap=> currMap.key==key)[0]\n",
    "            if (x!==undefined)\n",
    "    \t\t    return x.value;\n",
    "            else return undefined;\n",
    "         }\n"
   ]
  },
  {
   "cell_type": "markdown",
   "metadata": {},
   "source": [
    "Test these functions by constructing the value representing the following type expression and accessing its components:\n",
    "\n",
    "```\n",
    "{ a:string; b:number[]; c:{c1:boolean; c2:string[][]}}\n",
    "```"
   ]
  },
  {
   "cell_type": "code",
   "execution_count": 104,
   "metadata": {
    "collapsed": false
   },
   "outputs": [
    {
     "name": "stdout",
     "output_type": "stream",
     "text": [
      "wantedMap:  {\"tag\":\"map\",\"arr\":[{\"key\":\"a\",\"value\":{\"tag\":\"string\"}},{\"key\":\"b\",\"value\":{\"tag\":\"array\",\"itemType\":{\"tag\":\"number\"}}},{\"key\":\"c\",\"value\":{\"tag\":\"map\",\"arr\":[{\"key\":\"c1\",\"value\":{\"tag\":\"boolean\"}},{\"key\":\"c2\",\"value\":{\"tag\":\"array\",\"itemType\":{\"tag\":\"array\",\"itemType\":{\"tag\":\"string\"}}}}]}}]}\n",
      "teMapKey(wantedMap,'a')  { tag: 'string' }\n"
     ]
    },
    {
     "data": {
      "text/plain": [
       "undefined"
      ]
     },
     "execution_count": 104,
     "metadata": {},
     "output_type": "execute_result"
    }
   ],
   "source": [
    "declare var require: any\n",
    "const assert = require ('assert');\n",
    "\n",
    "\n",
    "// Test constructors @@@\n",
    "let miniArrForMiniMap: {key:string,value:TE}[] = [{key:\"c1\",value:makeTeBoolean()},{key:\"c2\",value:makeTeArray(makeTeArray(makeTeString()))} ]\n",
    "let miniMap = makeTeMap (miniArrForMiniMap)\n",
    "let arrPar:{key:string,value:TE}[] = [{key:\"a\",value:makeTeString()},{key:\"b\",value:makeTeArray(makeTeNumber())},{key:\"c\",value:miniMap} ]\n",
    "let wantedMap : TeMap = makeTeMap(arrPar);\n",
    "\n",
    "console.log (\"wantedMap: \",JSON.stringify( wantedMap ));\n",
    "\n",
    "\n",
    "\n",
    "// Test accessors @@@\n",
    "console.log(\"teMapKey(wantedMap,'a') \", teMapKey(wantedMap,\"a\"));\n",
    "assert.deepEqual(teMapKey(wantedMap,\"a\"),{ tag: 'string' })\n",
    "\n",
    "\n",
    "\n",
    "\n",
    "\n",
    "\n",
    "\n"
   ]
  },
  {
   "cell_type": "markdown",
   "metadata": {},
   "source": [
    "### Question 3.3: typeChecker as a Recursive Algorithm\n",
    "\n",
    "We now design the type checker algorithm.\n",
    "Given a JavaScript value and a type expression value - we want to verify whether the value belongs to the type denoted by the type expression.\n",
    "\n",
    "We design the rules of type checking in an inductive manner - through structural induction on the structure of the type expression values.\n",
    "\n",
    "```\n",
    "Type Checker Algorithm: \n",
    "typeCheck(jsValue:any, te:TE)=>boolean\n",
    "Verify that jsValue belongs to the type denoted by te.\n",
    "\n",
    "if te is atomic:\n",
    "    if te is `number`: checkNumber(jsValue)\n",
    "    else if te is `string`: checkString(jsValue)\n",
    "    else if te is `boolean`: checkBoolean(jsValue)\n",
    "else te is a compound type expression:    \n",
    "    if te is an array: checkArray(jsValue, te)\n",
    "    if te is a map: checkMap(jsValue, te)\n",
    "```\n",
    "\n",
    "We know that this algorithm tests all possible values of the `te` parameter based on its type (a disjoint union type).\n",
    "\n",
    "We now turn to the definition of the sub-procedures in this definition:\n",
    "\n",
    "For atomic type expressions - we rely on the JavaScript introspection primitives - `typeof`:\n",
    "```\n",
    "checkNumber: \n",
    "checkNumber(jsValue:any)=>boolean:\n",
    "Verify that jsValue belongs to the set of numbers in JavaScript.\n",
    "\n",
    "    typeof jsValue === \"number\"\n",
    "```"
   ]
  },
  {
   "cell_type": "markdown",
   "metadata": {},
   "source": [
    "#### Answer 3.3.1\n",
    "\n",
    "Complete the algorithm definition (using the same pseudo code format as the definitions above):\n",
    "* \n",
    "```\n",
    "checkString:\n",
    "checkString(jsValue:any)=>boolean:\n",
    "Verify that jsValue belongs to the set of strings in JavaScript.\n",
    "\n",
    "    typeof jsValue === \"string\"```\n",
    "\n",
    "\n",
    "* \n",
    "```\n",
    "checkBoolean:\n",
    "checkBoolean(jsValue:any)=>boolean:\n",
    "Verify that jsValue belongs to the set of boolean values ({true,false}) in JavaScript.\n",
    "\n",
    "    typeof jsValue === \"boolean\"```\n",
    "\n"
   ]
  },
  {
   "cell_type": "markdown",
   "metadata": {},
   "source": [
    "For compound type expressions - we need to check the JavaScript type of jsValue, verify what type of container it is (array or map), and if it matches the type denoted by `te` (array or map respectively) then, recursively, type check the components of the value.\n",
    "\n",
    "Note that in the recursive step, we break down jsValue using the JavaScript accessors of the JavaScript value container, and we break down the `te` type expression using the accessors of the Type Expression data type.\n",
    "\n",
    "For Array type expressions - this recursive method is defined as follows:\n",
    "```\n",
    "checkArray:\n",
    "checkArray(jsValue:any, te:TeArray)=>boolean:\n",
    "Verify the jsValue belongs to the set of array values denoted by te.\n",
    "\n",
    "    jsValue instanceof \"Array\" && every item in jsValue verifies\n",
    "        checkType(item, te.itemType)\n",
    "```"
   ]
  },
  {
   "cell_type": "markdown",
   "metadata": {},
   "source": [
    "#### Answer 3.3.2\n",
    "\n",
    "Complete the algorithm definition of:\n",
    "checkMap:\n",
    "checkMap(jsValue:any, te:TE)=>boolean:\n",
    "Verify the jsValue is of the type denoted by te.\n",
    "\n",
    "    jsValue is NOT instanceof \"Array\" && jsValue is instance of \"Object\" \n",
    "    && \n",
    "    each key in the jsValue map satisfies the following condition:\n",
    "    typeCheck(jsValue[key],teMapKey(te,key)) is true\n",
    "    && each key in the TeMap satisfies this condition as well.   \n",
    "    "
   ]
  },
  {
   "cell_type": "markdown",
   "metadata": {},
   "source": [
    "### Question 3.4 Implement the typeCheck function\n",
    "\n",
    "Implement in TypeScript the recursive typeCheck algorithm defined above.\n",
    "Use the `switch` method to manipulate disjoint union types as discussed in class."
   ]
  },
  {
   "cell_type": "code",
   "execution_count": 105,
   "metadata": {
    "collapsed": false
   },
   "outputs": [
    {
     "data": {
      "text/plain": [
       "true"
      ]
     },
     "execution_count": 105,
     "metadata": {},
     "output_type": "execute_result"
    }
   ],
   "source": [
    "// Answer 3.4\n",
    "// @@@\n",
    "const typeCheck : (jsValue:any, te:TE)=>boolean =\n",
    "    (jsValue, te) => { \n",
    "        //console.log (\"jsValue: \", jsValue);\n",
    "        //console.log (\"te: \", JSON.stringify(te));\n",
    "        if (te==undefined) return false;\n",
    "        switch (te.tag){\n",
    "        case \"number\": return checkNumber(jsValue); \n",
    "        case \"string\": return checkString(jsValue); \n",
    "        case \"boolean\": return checkBoolean(jsValue); \n",
    "        case \"array\": return checkArray(jsValue,te);\n",
    "        case \"map\": return checkMap(jsValue,te);\n",
    "        default: return false;\n",
    "    }\n",
    "}\n",
    "\n",
    "const checkMap : (jsValue:any, te:TeMap)=>boolean =\n",
    "(jsValue,te)=> \n",
    "      ((!(jsValue instanceof Array) ) && jsValue instanceof Object \n",
    "      && Object.keys(jsValue).reduce((acc,curr)=>  \n",
    "      (acc==true && typeCheck (jsValue[curr],teMapKey(te,curr))==true),true))\n",
    "      && te.arr.map(item=>item.key).reduce((acc,curr)=>  \n",
    "      (acc==true && typeCheck (jsValue[curr],teMapKey(te,curr))==true),true)\n",
    "      ;                \n",
    "\n",
    "\n",
    "\n",
    "\n",
    "const checkNumber : (jsValue:any)=>boolean =\n",
    "(jsValue)=>{\n",
    "    return (typeof(jsValue)===\"number\")\n",
    "}\n",
    "\n",
    "\n",
    "const checkString : (jsValue:any)=>boolean =\n",
    "(jsValue)=>{\n",
    "    return (typeof(jsValue)===\"string\")\n",
    "}\n",
    "\n",
    "\n",
    "const checkBoolean : (jsValue:any)=>boolean =\n",
    "(jsValue)=>{\n",
    "    return (typeof(jsValue)===\"boolean\")\n",
    "}\n",
    "\n",
    "\n",
    "\n"
   ]
  },
  {
   "cell_type": "code",
   "execution_count": 106,
   "metadata": {
    "collapsed": false
   },
   "outputs": [
    {
     "data": {
      "text/plain": [
       "true"
      ]
     },
     "execution_count": 106,
     "metadata": {},
     "output_type": "execute_result"
    }
   ],
   "source": [
    "// Test typeCheck with 10 good tests covering the code in increasing order of complexity.\n",
    "// Make sure to test positive and negative cases (cases where typeCheck returns true and false).\n",
    "\n",
    "// Test 0\n",
    "    // 1. Base cases - primitives\n",
    "    let aNum : number = 2, aString = \"2\", aBoolean = true;\n",
    "    assert.ok(typeCheck(aNum,makeTeNumber())===true);\n",
    "    assert.ok(typeCheck(aString,makeTeBoolean())===false);\n",
    "    assert.ok(typeCheck(aBoolean,makeTeBoolean())===true);\n",
    "    true"
   ]
  },
  {
   "cell_type": "code",
   "execution_count": 107,
   "metadata": {
    "collapsed": false
   },
   "outputs": [
    {
     "data": {
      "text/plain": [
       "true"
      ]
     },
     "execution_count": 107,
     "metadata": {},
     "output_type": "execute_result"
    }
   ],
   "source": [
    "// Test 1\n",
    "    // 2. Simple array of primitives\n",
    "    let aArr : Array<number> = [2,3];\n",
    "    assert.ok(typeCheck(aArr,makeTeArray(makeTeNumber()))===true);\n",
    "    true"
   ]
  },
  {
   "cell_type": "code",
   "execution_count": 108,
   "metadata": {
    "collapsed": false
   },
   "outputs": [
    {
     "data": {
      "text/plain": [
       "true"
      ]
     },
     "execution_count": 108,
     "metadata": {},
     "output_type": "execute_result"
    }
   ],
   "source": [
    "// Test 2\n",
    "    // 3. hetrogenicArray array - Not pass\n",
    "    let hetrogenicArray = [2,\"3\"];\n",
    "    assert.ok(typeCheck(hetrogenicArray,makeTeArray(makeTeNumber()))===false);\n",
    "    true"
   ]
  },
  {
   "cell_type": "code",
   "execution_count": 109,
   "metadata": {
    "collapsed": false
   },
   "outputs": [
    {
     "data": {
      "text/plain": [
       "true"
      ]
     },
     "execution_count": 109,
     "metadata": {},
     "output_type": "execute_result"
    }
   ],
   "source": [
    "// Test 3\n",
    "    // 4. Array of arrays\n",
    "    let arrayOfArrays = [[2],[3]];\n",
    "    assert.ok(typeCheck(arrayOfArrays,makeTeArray(makeTeArray(makeTeNumber())))===true);\n",
    "    true"
   ]
  },
  {
   "cell_type": "code",
   "execution_count": 110,
   "metadata": {
    "collapsed": false
   },
   "outputs": [
    {
     "data": {
      "text/plain": [
       "true"
      ]
     },
     "execution_count": 110,
     "metadata": {},
     "output_type": "execute_result"
    }
   ],
   "source": [
    "// Test 4\n",
    "    // 5. Simple map of primitives\n",
    "    let aMap  = {x:5, y:\"wow\", z:true};\n",
    "    let parArrType = [{key:\"x\",value:makeTeNumber()},{key:\"y\",value:makeTeString()},{key:\"z\",value:makeTeBoolean()}];\n",
    "    assert.ok(typeCheck(aMap,makeTeMap(parArrType))===true);\n",
    "    let wrongTypeMap = [{key:\"P\",value:makeTeNumber()},{key:\"y\",value:makeTeString()},{key:\"z\",value:makeTeBoolean()}];\n",
    "    assert.ok(typeCheck(aMap,makeTeMap(wrongTypeMap))===false);\n",
    "    true"
   ]
  },
  {
   "cell_type": "code",
   "execution_count": 111,
   "metadata": {
    "collapsed": false
   },
   "outputs": [
    {
     "data": {
      "text/plain": [
       "true"
      ]
     },
     "execution_count": 111,
     "metadata": {},
     "output_type": "execute_result"
    }
   ],
   "source": [
    "// Test 5\n",
    "    // 6. Map of maps\n",
    "    let mapOfMaps = {x:{x1:5,x2:\"2\"}}\n",
    "    let insideMapArrayType = [{key:\"x1\",value:makeTeNumber()},{key:\"x2\",value:makeTeString()}]\n",
    "    let insideMap = makeTeMap (insideMapArrayType);\n",
    "    let mapOfMapsTypeArr = [{key:\"x\", value:insideMap}]\n",
    "    assert.ok(typeCheck(mapOfMaps,makeTeMap(mapOfMapsTypeArr))===true);\n",
    "    true"
   ]
  },
  {
   "cell_type": "code",
   "execution_count": 112,
   "metadata": {
    "collapsed": false
   },
   "outputs": [
    {
     "data": {
      "text/plain": [
       "true"
      ]
     },
     "execution_count": 112,
     "metadata": {},
     "output_type": "execute_result"
    }
   ],
   "source": [
    "// Test 6\n",
    "    // 7. Array of map\n",
    "    let arrayOfMap  = [{x:5, y:\"wow\", z:true}];\n",
    "    let parArrTypeOfMap = [{key:\"x\",value:makeTeNumber()},{key:\"y\",value:makeTeString()},{key:\"z\",value:makeTeBoolean()}];\n",
    "    assert.ok(typeCheck(arrayOfMap,makeTeArray(makeTeMap(parArrTypeOfMap)))===true);\n",
    "    let badParArrTypeOfMap = [{key:\"x\",value:makeTeBoolean()},{key:\"y\",value:makeTeString()},{key:\"z\",value:makeTeBoolean()}];\n",
    "    assert.ok(typeCheck(arrayOfMap,makeTeArray(makeTeMap(badParArrTypeOfMap)))===false);\n",
    "    true\n"
   ]
  },
  {
   "cell_type": "code",
   "execution_count": 113,
   "metadata": {
    "collapsed": false
   },
   "outputs": [
    {
     "data": {
      "text/plain": [
       "true"
      ]
     },
     "execution_count": 113,
     "metadata": {},
     "output_type": "execute_result"
    }
   ],
   "source": [
    "// Test 7\n",
    "    // 8. Map of array\n",
    "    let mapOfArray  = {x: [5,6,7]}\n",
    "    let mapOfArrayArrayType = [{key:\"x\", value: makeTeArray(makeTeNumber())}]\n",
    "    let mapOfArrayType = makeTeMap(mapOfArrayArrayType);\n",
    "    assert.ok(typeCheck(mapOfArray,mapOfArrayType)===true);\n",
    "\n",
    "    true"
   ]
  },
  {
   "cell_type": "code",
   "execution_count": 114,
   "metadata": {
    "collapsed": false
   },
   "outputs": [
    {
     "data": {
      "text/plain": [
       "true"
      ]
     },
     "execution_count": 114,
     "metadata": {},
     "output_type": "execute_result"
    }
   ],
   "source": [
    "// Test 8\n",
    "    // 9. Array of maps\n",
    "    let arrayOfMaps = [{x:4,y:\"Super\"},{x:5,y:\"Duper\"}]\n",
    "    let arrPar = [{key:\"x\",value:makeTeNumber()},{key:\"y\",value:makeTeString()}];\n",
    "    // let secondArrPar = [{key:\"z\",value:makeTeBoolean()}]\n",
    "    // let firstMap = makeTeMap(firstArrPar);\n",
    "    // let secondMap = makeTeMap(secondArrPar);\n",
    "    let wholeArray = makeTeArray(makeTeMap(arrPar));\n",
    "    assert.ok(typeCheck(arrayOfMaps,wholeArray)==true);\n",
    "    true"
   ]
  },
  {
   "cell_type": "code",
   "execution_count": 115,
   "metadata": {
    "collapsed": false
   },
   "outputs": [
    {
     "data": {
      "text/plain": [
       "true"
      ]
     },
     "execution_count": 115,
     "metadata": {},
     "output_type": "execute_result"
    }
   ],
   "source": [
    "// Test 9\n",
    "    // 10. Maps of array\n",
    "    let mapOfArrays = {x: [5,6,7], y:[\"Mojo\",\"Jojo\"]}\n",
    "    let mapOfArrayArraysType = [{key:\"x\", value: makeTeArray(makeTeNumber())},{key:\"y\",value:makeTeArray(makeTeString())}]\n",
    "    assert.ok(typeCheck(mapOfArrays,makeTeMap(mapOfArrayArraysType))==true);\n",
    "\n",
    "    true"
   ]
  }
 ],
 "metadata": {
  "anaconda-cloud": {},
  "kernelspec": {
   "display_name": "Typescript 2.2",
   "language": "typescript",
   "name": "typescript"
  },
  "language_info": {
   "file_extension": ".ts",
   "mimetype": "text/x-typescript",
   "name": "typescript",
   "version": "2.2.2"
  }
 },
 "nbformat": 4,
 "nbformat_minor": 1
}
